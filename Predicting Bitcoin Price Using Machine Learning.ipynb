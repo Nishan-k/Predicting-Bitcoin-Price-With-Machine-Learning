{
 "cells": [
  {
   "cell_type": "markdown",
   "id": "fce75279",
   "metadata": {},
   "source": [
    "# 1. Importing the libraries:"
   ]
  },
  {
   "cell_type": "code",
   "execution_count": 1,
   "id": "ef5b78ab",
   "metadata": {},
   "outputs": [],
   "source": [
    "import pandas as pd\n",
    "import numpy as np\n",
    "import matplotlib.pyplot as plt\n",
    "import warnings\n",
    "\n",
    "\n",
    "warnings.filterwarnings('ignore')\n",
    "%matplotlib inline"
   ]
  },
  {
   "cell_type": "markdown",
   "id": "ba3981aa",
   "metadata": {},
   "source": [
    "# 2. Importing the dataset:"
   ]
  },
  {
   "cell_type": "code",
   "execution_count": 2,
   "id": "65f8b9a3",
   "metadata": {},
   "outputs": [
    {
     "data": {
      "text/html": [
       "<div>\n",
       "<style scoped>\n",
       "    .dataframe tbody tr th:only-of-type {\n",
       "        vertical-align: middle;\n",
       "    }\n",
       "\n",
       "    .dataframe tbody tr th {\n",
       "        vertical-align: top;\n",
       "    }\n",
       "\n",
       "    .dataframe thead th {\n",
       "        text-align: right;\n",
       "    }\n",
       "</style>\n",
       "<table border=\"1\" class=\"dataframe\">\n",
       "  <thead>\n",
       "    <tr style=\"text-align: right;\">\n",
       "      <th></th>\n",
       "      <th>Timestamp</th>\n",
       "      <th>Open</th>\n",
       "      <th>High</th>\n",
       "      <th>Low</th>\n",
       "      <th>Close</th>\n",
       "      <th>Volume</th>\n",
       "    </tr>\n",
       "  </thead>\n",
       "  <tbody>\n",
       "    <tr>\n",
       "      <th>0</th>\n",
       "      <td>1.325412e+09</td>\n",
       "      <td>4.58</td>\n",
       "      <td>4.58</td>\n",
       "      <td>4.58</td>\n",
       "      <td>4.58</td>\n",
       "      <td>0.0</td>\n",
       "    </tr>\n",
       "    <tr>\n",
       "      <th>1</th>\n",
       "      <td>1.325412e+09</td>\n",
       "      <td>4.58</td>\n",
       "      <td>4.58</td>\n",
       "      <td>4.58</td>\n",
       "      <td>4.58</td>\n",
       "      <td>0.0</td>\n",
       "    </tr>\n",
       "    <tr>\n",
       "      <th>2</th>\n",
       "      <td>1.325412e+09</td>\n",
       "      <td>4.58</td>\n",
       "      <td>4.58</td>\n",
       "      <td>4.58</td>\n",
       "      <td>4.58</td>\n",
       "      <td>0.0</td>\n",
       "    </tr>\n",
       "    <tr>\n",
       "      <th>3</th>\n",
       "      <td>1.325412e+09</td>\n",
       "      <td>4.58</td>\n",
       "      <td>4.58</td>\n",
       "      <td>4.58</td>\n",
       "      <td>4.58</td>\n",
       "      <td>0.0</td>\n",
       "    </tr>\n",
       "  </tbody>\n",
       "</table>\n",
       "</div>"
      ],
      "text/plain": [
       "      Timestamp  Open  High   Low  Close  Volume\n",
       "0  1.325412e+09  4.58  4.58  4.58   4.58     0.0\n",
       "1  1.325412e+09  4.58  4.58  4.58   4.58     0.0\n",
       "2  1.325412e+09  4.58  4.58  4.58   4.58     0.0\n",
       "3  1.325412e+09  4.58  4.58  4.58   4.58     0.0"
      ]
     },
     "execution_count": 2,
     "metadata": {},
     "output_type": "execute_result"
    }
   ],
   "source": [
    "data = pd.read_csv(\"../btcusd_1-min_data.csv\")\n",
    "data.head(4)"
   ]
  },
  {
   "cell_type": "markdown",
   "id": "e4f21eec",
   "metadata": {},
   "source": [
    "# 3. EDA (Exploratory Data Analysis):"
   ]
  },
  {
   "cell_type": "code",
   "execution_count": 3,
   "id": "0edd18a1",
   "metadata": {},
   "outputs": [
    {
     "name": "stdout",
     "output_type": "stream",
     "text": [
      "The shape of the data is: (6715281, 6)\n"
     ]
    }
   ],
   "source": [
    "print(f\"The shape of the data is: {data.shape}\")"
   ]
  },
  {
   "cell_type": "markdown",
   "id": "100d7f61",
   "metadata": {},
   "source": [
    "#### Checking the null values:"
   ]
  },
  {
   "cell_type": "code",
   "execution_count": 4,
   "id": "c6492f05",
   "metadata": {},
   "outputs": [
    {
     "data": {
      "text/plain": [
       "Timestamp    1\n",
       "Open         0\n",
       "High         0\n",
       "Low          0\n",
       "Close        0\n",
       "Volume       0\n",
       "dtype: int64"
      ]
     },
     "execution_count": 4,
     "metadata": {},
     "output_type": "execute_result"
    }
   ],
   "source": [
    "data.isna().sum()"
   ]
  },
  {
   "cell_type": "code",
   "execution_count": 5,
   "id": "07182853",
   "metadata": {},
   "outputs": [],
   "source": [
    "data.dropna(inplace=True)"
   ]
  },
  {
   "cell_type": "code",
   "execution_count": 6,
   "id": "8555e159",
   "metadata": {},
   "outputs": [
    {
     "data": {
      "text/plain": [
       "Timestamp    0\n",
       "Open         0\n",
       "High         0\n",
       "Low          0\n",
       "Close        0\n",
       "Volume       0\n",
       "dtype: int64"
      ]
     },
     "execution_count": 6,
     "metadata": {},
     "output_type": "execute_result"
    }
   ],
   "source": [
    "data.isna().sum()"
   ]
  },
  {
   "cell_type": "markdown",
   "id": "6b19791b",
   "metadata": {},
   "source": [
    "Here, the datsize is in millions, so I will only select portion of it for this task. To do so, I will convert the timestamp to dates and then filter accordingly."
   ]
  },
  {
   "cell_type": "code",
   "execution_count": 7,
   "id": "191ea9ac",
   "metadata": {},
   "outputs": [
    {
     "data": {
      "text/plain": [
       "1325412060.0"
      ]
     },
     "execution_count": 7,
     "metadata": {},
     "output_type": "execute_result"
    }
   ],
   "source": [
    "data['Timestamp'][0]"
   ]
  },
  {
   "cell_type": "code",
   "execution_count": 8,
   "id": "2b75fce9",
   "metadata": {},
   "outputs": [],
   "source": [
    "data['Dates'] = pd.to_datetime(data['Timestamp'], unit='s')"
   ]
  },
  {
   "cell_type": "code",
   "execution_count": 9,
   "id": "1abc7cd8",
   "metadata": {},
   "outputs": [
    {
     "data": {
      "text/html": [
       "<div>\n",
       "<style scoped>\n",
       "    .dataframe tbody tr th:only-of-type {\n",
       "        vertical-align: middle;\n",
       "    }\n",
       "\n",
       "    .dataframe tbody tr th {\n",
       "        vertical-align: top;\n",
       "    }\n",
       "\n",
       "    .dataframe thead th {\n",
       "        text-align: right;\n",
       "    }\n",
       "</style>\n",
       "<table border=\"1\" class=\"dataframe\">\n",
       "  <thead>\n",
       "    <tr style=\"text-align: right;\">\n",
       "      <th></th>\n",
       "      <th>Timestamp</th>\n",
       "      <th>Open</th>\n",
       "      <th>High</th>\n",
       "      <th>Low</th>\n",
       "      <th>Close</th>\n",
       "      <th>Volume</th>\n",
       "      <th>Dates</th>\n",
       "    </tr>\n",
       "  </thead>\n",
       "  <tbody>\n",
       "    <tr>\n",
       "      <th>0</th>\n",
       "      <td>1.325412e+09</td>\n",
       "      <td>4.58</td>\n",
       "      <td>4.58</td>\n",
       "      <td>4.58</td>\n",
       "      <td>4.58</td>\n",
       "      <td>0.0</td>\n",
       "      <td>2012-01-01 10:01:00</td>\n",
       "    </tr>\n",
       "    <tr>\n",
       "      <th>1</th>\n",
       "      <td>1.325412e+09</td>\n",
       "      <td>4.58</td>\n",
       "      <td>4.58</td>\n",
       "      <td>4.58</td>\n",
       "      <td>4.58</td>\n",
       "      <td>0.0</td>\n",
       "      <td>2012-01-01 10:02:00</td>\n",
       "    </tr>\n",
       "    <tr>\n",
       "      <th>2</th>\n",
       "      <td>1.325412e+09</td>\n",
       "      <td>4.58</td>\n",
       "      <td>4.58</td>\n",
       "      <td>4.58</td>\n",
       "      <td>4.58</td>\n",
       "      <td>0.0</td>\n",
       "      <td>2012-01-01 10:03:00</td>\n",
       "    </tr>\n",
       "    <tr>\n",
       "      <th>3</th>\n",
       "      <td>1.325412e+09</td>\n",
       "      <td>4.58</td>\n",
       "      <td>4.58</td>\n",
       "      <td>4.58</td>\n",
       "      <td>4.58</td>\n",
       "      <td>0.0</td>\n",
       "      <td>2012-01-01 10:04:00</td>\n",
       "    </tr>\n",
       "    <tr>\n",
       "      <th>4</th>\n",
       "      <td>1.325412e+09</td>\n",
       "      <td>4.58</td>\n",
       "      <td>4.58</td>\n",
       "      <td>4.58</td>\n",
       "      <td>4.58</td>\n",
       "      <td>0.0</td>\n",
       "      <td>2012-01-01 10:05:00</td>\n",
       "    </tr>\n",
       "  </tbody>\n",
       "</table>\n",
       "</div>"
      ],
      "text/plain": [
       "      Timestamp  Open  High   Low  Close  Volume               Dates\n",
       "0  1.325412e+09  4.58  4.58  4.58   4.58     0.0 2012-01-01 10:01:00\n",
       "1  1.325412e+09  4.58  4.58  4.58   4.58     0.0 2012-01-01 10:02:00\n",
       "2  1.325412e+09  4.58  4.58  4.58   4.58     0.0 2012-01-01 10:03:00\n",
       "3  1.325412e+09  4.58  4.58  4.58   4.58     0.0 2012-01-01 10:04:00\n",
       "4  1.325412e+09  4.58  4.58  4.58   4.58     0.0 2012-01-01 10:05:00"
      ]
     },
     "execution_count": 9,
     "metadata": {},
     "output_type": "execute_result"
    }
   ],
   "source": [
    "data.head(5)"
   ]
  },
  {
   "cell_type": "code",
   "execution_count": 10,
   "id": "532a9b00",
   "metadata": {},
   "outputs": [
    {
     "data": {
      "text/plain": [
       "(Timestamp('2012-01-01 10:01:00'), Timestamp('2024-11-18 00:00:00'))"
      ]
     },
     "execution_count": 10,
     "metadata": {},
     "output_type": "execute_result"
    }
   ],
   "source": [
    "data['Dates'].min(), data['Dates'].max()"
   ]
  },
  {
   "cell_type": "markdown",
   "id": "87f67e73",
   "metadata": {},
   "source": [
    "Let's group the data based on the years:"
   ]
  },
  {
   "cell_type": "code",
   "execution_count": 11,
   "id": "9f384e29",
   "metadata": {},
   "outputs": [
    {
     "data": {
      "text/plain": [
       "Dates\n",
       "2012    526379\n",
       "2013    525540\n",
       "2014    525540\n",
       "2015    525540\n",
       "2016    526980\n",
       "2017    525540\n",
       "2018    525540\n",
       "2019    525540\n",
       "2020    526980\n",
       "2021    525540\n",
       "2022    525540\n",
       "2023    525540\n",
       "2024    405081\n",
       "dtype: int64"
      ]
     },
     "execution_count": 11,
     "metadata": {},
     "output_type": "execute_result"
    }
   ],
   "source": [
    "data.groupby(data['Dates'].dt.year).size()"
   ]
  },
  {
   "cell_type": "markdown",
   "id": "af4f813c",
   "metadata": {},
   "source": [
    "For this project, I will only be using data from the year **2024** since it already has 405081 rows."
   ]
  },
  {
   "cell_type": "code",
   "execution_count": 12,
   "id": "d58f079e",
   "metadata": {},
   "outputs": [],
   "source": [
    "data_2024 = data[data['Dates'].dt.year == 2024]"
   ]
  },
  {
   "cell_type": "code",
   "execution_count": 13,
   "id": "055fc190",
   "metadata": {},
   "outputs": [
    {
     "data": {
      "text/html": [
       "<div>\n",
       "<style scoped>\n",
       "    .dataframe tbody tr th:only-of-type {\n",
       "        vertical-align: middle;\n",
       "    }\n",
       "\n",
       "    .dataframe tbody tr th {\n",
       "        vertical-align: top;\n",
       "    }\n",
       "\n",
       "    .dataframe thead th {\n",
       "        text-align: right;\n",
       "    }\n",
       "</style>\n",
       "<table border=\"1\" class=\"dataframe\">\n",
       "  <thead>\n",
       "    <tr style=\"text-align: right;\">\n",
       "      <th></th>\n",
       "      <th>Timestamp</th>\n",
       "      <th>Open</th>\n",
       "      <th>High</th>\n",
       "      <th>Low</th>\n",
       "      <th>Close</th>\n",
       "      <th>Volume</th>\n",
       "      <th>Dates</th>\n",
       "    </tr>\n",
       "  </thead>\n",
       "  <tbody>\n",
       "    <tr>\n",
       "      <th>6310199</th>\n",
       "      <td>1.704067e+09</td>\n",
       "      <td>42652.0</td>\n",
       "      <td>42655.0</td>\n",
       "      <td>42651.0</td>\n",
       "      <td>42651.0</td>\n",
       "      <td>0.014804</td>\n",
       "      <td>2024-01-01 00:00:00</td>\n",
       "    </tr>\n",
       "    <tr>\n",
       "      <th>6310200</th>\n",
       "      <td>1.704067e+09</td>\n",
       "      <td>42626.0</td>\n",
       "      <td>42626.0</td>\n",
       "      <td>42620.0</td>\n",
       "      <td>42620.0</td>\n",
       "      <td>0.208011</td>\n",
       "      <td>2024-01-01 00:01:00</td>\n",
       "    </tr>\n",
       "    <tr>\n",
       "      <th>6310201</th>\n",
       "      <td>1.704067e+09</td>\n",
       "      <td>42616.0</td>\n",
       "      <td>42629.0</td>\n",
       "      <td>42616.0</td>\n",
       "      <td>42629.0</td>\n",
       "      <td>0.029365</td>\n",
       "      <td>2024-01-01 00:02:00</td>\n",
       "    </tr>\n",
       "    <tr>\n",
       "      <th>6310202</th>\n",
       "      <td>1.704067e+09</td>\n",
       "      <td>42639.0</td>\n",
       "      <td>42642.0</td>\n",
       "      <td>42634.0</td>\n",
       "      <td>42642.0</td>\n",
       "      <td>0.016249</td>\n",
       "      <td>2024-01-01 00:03:00</td>\n",
       "    </tr>\n",
       "    <tr>\n",
       "      <th>6310203</th>\n",
       "      <td>1.704067e+09</td>\n",
       "      <td>42661.0</td>\n",
       "      <td>42671.0</td>\n",
       "      <td>42655.0</td>\n",
       "      <td>42671.0</td>\n",
       "      <td>0.012124</td>\n",
       "      <td>2024-01-01 00:04:00</td>\n",
       "    </tr>\n",
       "  </tbody>\n",
       "</table>\n",
       "</div>"
      ],
      "text/plain": [
       "            Timestamp     Open     High      Low    Close    Volume  \\\n",
       "6310199  1.704067e+09  42652.0  42655.0  42651.0  42651.0  0.014804   \n",
       "6310200  1.704067e+09  42626.0  42626.0  42620.0  42620.0  0.208011   \n",
       "6310201  1.704067e+09  42616.0  42629.0  42616.0  42629.0  0.029365   \n",
       "6310202  1.704067e+09  42639.0  42642.0  42634.0  42642.0  0.016249   \n",
       "6310203  1.704067e+09  42661.0  42671.0  42655.0  42671.0  0.012124   \n",
       "\n",
       "                      Dates  \n",
       "6310199 2024-01-01 00:00:00  \n",
       "6310200 2024-01-01 00:01:00  \n",
       "6310201 2024-01-01 00:02:00  \n",
       "6310202 2024-01-01 00:03:00  \n",
       "6310203 2024-01-01 00:04:00  "
      ]
     },
     "execution_count": 13,
     "metadata": {},
     "output_type": "execute_result"
    }
   ],
   "source": [
    "data_2024.head(5)"
   ]
  },
  {
   "cell_type": "code",
   "execution_count": 14,
   "id": "19947b59",
   "metadata": {},
   "outputs": [
    {
     "data": {
      "image/png": "[encoded data removed]",
      "text/plain": [
       "<Figure size 1152x504 with 1 Axes>"
      ]
     },
     "metadata": {
      "needs_background": "light"
     },
     "output_type": "display_data"
    }
   ],
   "source": [
    "plt.figure(figsize=(16, 7))\n",
    "plt.plot(data_2024['Dates'], data_2024['Close'])\n",
    "plt.title('Bitcoin (Closing Price-2024)', {'fontsize':16})\n",
    "plt.xlabel('Dates', fontsize=12)\n",
    "plt.ylabel('Closing Price', fontsize=12)\n",
    "plt.show()"
   ]
  },
  {
   "cell_type": "markdown",
   "id": "51d84e84",
   "metadata": {},
   "source": [
    "Now, we let's explore this newly created dataset:"
   ]
  },
  {
   "cell_type": "code",
   "execution_count": 15,
   "id": "5f479f0b",
   "metadata": {},
   "outputs": [
    {
     "name": "stdout",
     "output_type": "stream",
     "text": [
      "<class 'pandas.core.frame.DataFrame'>\n",
      "Index: 405081 entries, 6310199 to 6715279\n",
      "Data columns (total 7 columns):\n",
      " #   Column     Non-Null Count   Dtype         \n",
      "---  ------     --------------   -----         \n",
      " 0   Timestamp  405081 non-null  float64       \n",
      " 1   Open       405081 non-null  float64       \n",
      " 2   High       405081 non-null  float64       \n",
      " 3   Low        405081 non-null  float64       \n",
      " 4   Close      405081 non-null  float64       \n",
      " 5   Volume     405081 non-null  float64       \n",
      " 6   Dates      405081 non-null  datetime64[ns]\n",
      "dtypes: datetime64[ns](1), float64(6)\n",
      "memory usage: 24.7 MB\n"
     ]
    }
   ],
   "source": [
    "data_2024.info()"
   ]
  },
  {
   "cell_type": "code",
   "execution_count": null,
   "id": "ad5fbe51",
   "metadata": {},
   "outputs": [],
   "source": []
  }
 ],
 "metadata": {
  "kernelspec": {
   "display_name": "Python 3 (ipykernel)",
   "language": "python",
   "name": "python3"
  },
  "language_info": {
   "codemirror_mode": {
    "name": "ipython",
    "version": 3
   },
   "file_extension": ".py",
   "mimetype": "text/x-python",
   "name": "python",
   "nbconvert_exporter": "python",
   "pygments_lexer": "ipython3",
   "version": "3.10.4"
  }
 },
 "nbformat": 4,
 "nbformat_minor": 5
}
